{
  "cells": [
    {
      "cell_type": "markdown",
      "metadata": {
        "colab_type": "text",
        "id": "view-in-github"
      },
      "source": [
        "<a href=\"https://colab.research.google.com/github/Alina-89/Academic_RAG/blob/main/Academic_RAG.ipynb\" target=\"_parent\"><img src=\"https://colab.research.google.com/assets/colab-badge.svg\" alt=\"Open In Colab\"/></a>"
      ]
    },
    {
      "cell_type": "code",
      "execution_count": null,
      "metadata": {
        "colab": {
          "base_uri": "https://localhost:8080/"
        },
        "id": "AzximbfgU10i",
        "outputId": "6fc5f420-9e81-4881-bce2-785b6a572551"
      },
      "outputs": [],
      "source": [
        "!pip install gradio pymupdf"
      ]
    },
    {
      "cell_type": "code",
      "execution_count": null,
      "metadata": {
        "id": "u7nC9nAHU4eR"
      },
      "outputs": [],
      "source": [
        "import os\n",
        "import gradio as gr\n",
        "# Create the \"Documents\" folder\n",
        "os.makedirs(\"Academic_docs\", exist_ok=True)"
      ]
    },
    {
      "cell_type": "code",
      "execution_count": null,
      "metadata": {
        "colab": {
          "base_uri": "https://localhost:8080/",
          "height": 591
        },
        "id": "vXxCM7GbVgTp",
        "outputId": "78d3f9ca-a734-4064-9f3a-e83373be09a6"
      },
      "outputs": [
        {
          "name": "stdout",
          "output_type": "stream",
          "text": [
            "Colab notebook detected. To show errors in colab notebook, set debug=True in launch()\n",
            "* Running on public URL: https://753a5130802c610e41.gradio.live\n",
            "\n",
            "This share link expires in 1 week. For free permanent hosting and GPU upgrades, run `gradio deploy` from the terminal in the working directory to deploy to Hugging Face Spaces (https://huggingface.co/spaces)\n"
          ]
        },
        {
          "data": {
            "text/html": [
              "<div><iframe src=\"https://753a5130802c610e41.gradio.live\" width=\"100%\" height=\"500\" allow=\"autoplay; camera; microphone; clipboard-read; clipboard-write;\" frameborder=\"0\" allowfullscreen></iframe></div>"
            ],
            "text/plain": [
              "<IPython.core.display.HTML object>"
            ]
          },
          "metadata": {},
          "output_type": "display_data"
        },
        {
          "data": {
            "text/plain": []
          },
          "execution_count": 6,
          "metadata": {},
          "output_type": "execute_result"
        }
      ],
      "source": [
        "with gr.Blocks(css=\"\"\"\n",
        "/* 🌙 Dark Mode Background */\n",
        ".gradio-container {\n",
        "    background-color: #18181B;\n",
        "    color: #FFFFFF;\n",
        "    font-family: 'Poppins', sans-serif;\n",
        "    padding: 20px;\n",
        "    display: flex;\n",
        "    justify-content: center;\n",
        "}\n",
        "\n",
        "/* Stack content vertically and center */\n",
        "#main-column {\n",
        "    display: flex;\n",
        "    flex-direction: column;\n",
        "    align-items: center;\n",
        "    max-width: 800px;\n",
        "    width: 100%;\n",
        "    margin: auto;\n",
        "}\n",
        "\n",
        "/* 🖼️ Image Styling */\n",
        ".gr-image {\n",
        "    border-radius: 12px;\n",
        "    box-shadow: 4px 4px 10px rgba(255, 255, 255, 0.2);\n",
        "}\n",
        "\n",
        "/* ✏️ Textbox Enhancements */\n",
        ".gr-textbox {\n",
        "    width: 90%;\n",
        "    font-size: 18px;\n",
        "    padding: 10px;\n",
        "    border: 2px solid #4A4A4D;\n",
        "}\n",
        "\n",
        "/* 🎨 Button Customization */\n",
        ".gr-button {\n",
        "    background-color: #5A67D8;\n",
        "    color: pink;\n",
        "    font-size: 16px;\n",
        "    padding: 12px 18px;\n",
        "    border-radius: 8px;\n",
        "    transition: 0.2s ease-in-out;\n",
        "}\n",
        "\n",
        "/* ✨ Refine Labels */\n",
        "label {\n",
        "    font-weight: bold;\n",
        "    color: #D1D5DB;\n",
        "}\n",
        "\"\"\") as demo:\n",
        "\n",
        "    with gr.Column(elem_id=\"main-column\"):\n",
        "        gr.Markdown(\"<h2 style='color: #EAB308;'>✏️ Create your summary</h2><p style='color: #9CA3AF;'>Upload your document</p>\")\n",
        "\n",
        "        file_input = gr.File(label=\"Upload a file\")\n",
        "        style_input = gr.Radio([\"Academic\", \"Robotic\", \"Explain like I am 5\"], label=\"Choose a style\")\n",
        "        generate_btn = gr.Button(\"Generate\")\n",
        "\n",
        "        summary_output = gr.Textbox(label=\"Generated Summary\")\n",
        "\n",
        "\n",
        "        generate_btn.click(inputs=[file_input, style_input],\n",
        "                           outputs=[summary_output])\n",
        "\n",
        "demo.launch(share=True)"
      ]
    }
  ],
  "metadata": {
    "colab": {
      "authorship_tag": "ABX9TyNksV9TVYrdI9zXIjnzen4+",
      "include_colab_link": true,
      "provenance": []
    },
    "kernelspec": {
      "display_name": "Python 3",
      "name": "python3"
    },
    "language_info": {
      "name": "python"
    }
  },
  "nbformat": 4,
  "nbformat_minor": 0
}
